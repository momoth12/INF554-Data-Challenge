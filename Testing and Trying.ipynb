{
 "cells": [
  {
   "cell_type": "code",
   "execution_count": null,
   "id": "initial_id",
   "metadata": {
    "collapsed": true
   },
   "outputs": [],
   "source": [
    "def extractive_summary (sentences, threshold):\n",
    "    \"\"\"Computes an extractive summary of a text given a threshold\"\"\"\n",
    "    tokenized_sentences = list(zip([tokenize_and_filter_stopwords(sentence) for sentence in sentences],\n",
    "                                   range(len(sentences))))\n",
    "\n",
    "    sentences_scores_ = list(sentences_scores (tokenized_sentences).items())\n",
    "\n",
    "    sentences_indexes = [sentence_and_score[1][1] for sentence_and_score in  sentences_scores_ if sentence_and_score[1][0]>=threshold]\n",
    "    sentences_indexes.sort()\n",
    "    summary = [sentences[index] for index in sentences_indexes]\n",
    "\n",
    "    return summary\n",
    "    #print(summary)"
   ]
  }
 ],
 "metadata": {
  "kernelspec": {
   "display_name": "Python 3",
   "language": "python",
   "name": "python3"
  },
  "language_info": {
   "codemirror_mode": {
    "name": "ipython",
    "version": 2
   },
   "file_extension": ".py",
   "mimetype": "text/x-python",
   "name": "python",
   "nbconvert_exporter": "python",
   "pygments_lexer": "ipython2",
   "version": "2.7.6"
  }
 },
 "nbformat": 4,
 "nbformat_minor": 5
}
